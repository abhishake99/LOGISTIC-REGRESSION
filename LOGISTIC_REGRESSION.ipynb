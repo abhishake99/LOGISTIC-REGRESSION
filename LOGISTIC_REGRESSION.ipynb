{
 "cells": [
  {
   "cell_type": "markdown",
   "metadata": {},
   "source": [
    "Logistic regression is a classification algorithm which creates a decision boundary around the data and helps to classify data into different classes "
   ]
  },
  {
   "cell_type": "markdown",
   "metadata": {},
   "source": [
    "# Logistic Regression from scratch"
   ]
  },
  {
   "cell_type": "code",
   "execution_count": 24,
   "metadata": {},
   "outputs": [],
   "source": [
    "from sklearn import datasets\n",
    "import pandas as pd\n",
    "import numpy as np\n",
    "import matplotlib.pyplot as plt\n",
    "from sklearn import preprocessing"
   ]
  },
  {
   "cell_type": "code",
   "execution_count": 2,
   "metadata": {},
   "outputs": [],
   "source": [
    "data=datasets.load_breast_cancer()\n"
   ]
  },
  {
   "cell_type": "code",
   "execution_count": 3,
   "metadata": {},
   "outputs": [],
   "source": [
    "from sklearn import model_selection as ms"
   ]
  },
  {
   "cell_type": "code",
   "execution_count": 4,
   "metadata": {},
   "outputs": [],
   "source": [
    "x=data[\"data\"]\n",
    "y=data[\"target\"]"
   ]
  },
  {
   "cell_type": "code",
   "execution_count": 5,
   "metadata": {},
   "outputs": [],
   "source": [
    "x_train,x_test,y_train,y_test=ms.train_test_split(x,y)"
   ]
  },
  {
   "cell_type": "code",
   "execution_count": 25,
   "metadata": {},
   "outputs": [],
   "source": [
    "scaler=preprocessing.StandardScaler()\n",
    "scaler.fit(x_train)\n",
    "x_train=scaler.transform(x_train)"
   ]
  },
  {
   "cell_type": "code",
   "execution_count": 40,
   "metadata": {},
   "outputs": [],
   "source": [
    "\n",
    "def step_gradient(X, Y, learning_rate, m):\n",
    "    m_slope=np.zeros(len(X[0]))\n",
    "    for i in range(len(X)):\n",
    "        x=X[i]\n",
    "        y=Y[i]\n",
    "        for j in range(len(x)):\n",
    "            m_slope+=(-1/len(X))*(y-(1/(1+np.exp(-sum(m*x)))))*x[j]\n",
    "    new_m=m-learning_rate*m_slope\n",
    "    return new_m\n",
    "\n",
    "def cost(x, y, m):\n",
    "    cost=0\n",
    "    for i in range(len(x)):\n",
    "        cost+=np.log(1+(np.exp(sum(m*x[i]))))-y[i]*sum(m*x[i])\n",
    "    print(cost) \n",
    "\n",
    "def gradient_descent(x, y, learning_rate, iterations):\n",
    "    m=np.zeros(len(x[0]))\n",
    "    for i in range(iterations):\n",
    "        m=step_gradient(x, y, learning_rate, m)\n",
    "        print(\"itr= \", i, \"cost=\", end=' ')\n",
    "        cost(x, y, m)\n",
    "    return m\n",
    "\n",
    "def run(x, y):\n",
    "    iterations=50\n",
    "    learning_rate=0.01\n",
    "    m=gradient_descent(x, y, learning_rate, iterations)\n",
    "    return m\n",
    "\n",
    "def predict(x_test,m):\n",
    "    testing=x_test\n",
    "    testing=scaler.transform(testing)\n",
    "    pred=[]\n",
    "    for i in testing:\n",
    "         if 1/(1+np.exp(-sum(m*i)))>0.5:\n",
    "            pred.append(1)\n",
    "         else:\n",
    "            pred.append(0)\n",
    "    return pred\n",
    "\n",
    "def score(pred,y_test):\n",
    "    total=0\n",
    "    correct=0\n",
    "    for i, j in zip(pred, y_test):\n",
    "         total+=1\n",
    "         if i==j:\n",
    "            correct+=1\n",
    "    score=correct/total\n",
    "    return score\n"
   ]
  },
  {
   "cell_type": "code",
   "execution_count": 41,
   "metadata": {},
   "outputs": [
    {
     "name": "stdout",
     "output_type": "stream",
     "text": [
      "itr=  0 cost= 174.76716316070576\n",
      "itr=  1 cost= 157.0959755306161\n",
      "itr=  2 cost= 149.1057624079776\n",
      "itr=  3 cost= 144.65707991217909\n",
      "itr=  4 cost= 141.90623847400832\n",
      "itr=  5 cost= 140.09178131782016\n",
      "itr=  6 cost= 138.84112860692247\n",
      "itr=  7 cost= 137.95112528133123\n",
      "itr=  8 cost= 137.3022659885739\n",
      "itr=  9 cost= 136.82018265907558\n",
      "itr=  10 cost= 136.45654327705688\n",
      "itr=  11 cost= 136.17883593205437\n",
      "itr=  12 cost= 135.96457093461217\n",
      "itr=  13 cost= 135.7978285538758\n",
      "itr=  14 cost= 135.66712030397082\n",
      "itr=  15 cost= 135.56401914502564\n",
      "itr=  16 cost= 135.48225695069692\n",
      "itr=  17 cost= 135.41711517741055\n",
      "itr=  18 cost= 135.36500468689454\n",
      "itr=  19 cost= 135.32317059041438\n",
      "itr=  20 cost= 135.28948150882428\n",
      "itr=  21 cost= 135.26227691927093\n",
      "itr=  22 cost= 135.24025515098847\n",
      "itr=  23 cost= 135.222390260165\n",
      "itr=  24 cost= 135.2078697024038\n",
      "itr=  25 cost= 135.19604716746971\n",
      "itr=  26 cost= 135.1864065912128\n",
      "itr=  27 cost= 135.17853449026956\n",
      "itr=  28 cost= 135.17209855101433\n",
      "itr=  29 cost= 135.16683095762775\n",
      "itr=  30 cost= 135.16251533854756\n",
      "itr=  31 cost= 135.15897649480192\n",
      "itr=  32 cost= 135.15607228067685\n",
      "itr=  33 cost= 135.15368715927949\n",
      "itr=  34 cost= 135.15172706837745\n",
      "itr=  35 cost= 135.1501153162235\n",
      "itr=  36 cost= 135.1487892906241\n",
      "itr=  37 cost= 135.1476978127138\n",
      "itr=  38 cost= 135.1467990037197\n",
      "itr=  39 cost= 135.14605856128725\n",
      "itr=  40 cost= 135.14544836380875\n",
      "itr=  41 cost= 135.1449453381725\n",
      "itr=  42 cost= 135.14453053961913\n",
      "itr=  43 cost= 135.1441884027855\n",
      "itr=  44 cost= 135.143906131214\n",
      "itr=  45 cost= 135.14367319907308\n",
      "itr=  46 cost= 135.14348094398147\n",
      "itr=  47 cost= 135.14332223392174\n",
      "itr=  48 cost= 135.1431911944875\n",
      "itr=  49 cost= 135.14308298534203\n",
      "SCORE :  0.8881118881118881\n"
     ]
    }
   ],
   "source": [
    "m=run(x_train,y_train)   \n",
    "pred=predict(x_test,m)\n",
    "score=score(pred,y_test)\n",
    "print(\"SCORE : \",score)"
   ]
  },
  {
   "cell_type": "markdown",
   "metadata": {},
   "source": [
    "# Using inbuilt algorithm"
   ]
  },
  {
   "cell_type": "code",
   "execution_count": 45,
   "metadata": {},
   "outputs": [],
   "source": [
    "from sklearn.linear_model import LogisticRegression"
   ]
  },
  {
   "cell_type": "code",
   "execution_count": 46,
   "metadata": {},
   "outputs": [],
   "source": [
    "alg=LogisticRegression()"
   ]
  },
  {
   "cell_type": "code",
   "execution_count": 47,
   "metadata": {},
   "outputs": [
    {
     "data": {
      "text/html": [
       "<style>#sk-container-id-1 {color: black;background-color: white;}#sk-container-id-1 pre{padding: 0;}#sk-container-id-1 div.sk-toggleable {background-color: white;}#sk-container-id-1 label.sk-toggleable__label {cursor: pointer;display: block;width: 100%;margin-bottom: 0;padding: 0.3em;box-sizing: border-box;text-align: center;}#sk-container-id-1 label.sk-toggleable__label-arrow:before {content: \"▸\";float: left;margin-right: 0.25em;color: #696969;}#sk-container-id-1 label.sk-toggleable__label-arrow:hover:before {color: black;}#sk-container-id-1 div.sk-estimator:hover label.sk-toggleable__label-arrow:before {color: black;}#sk-container-id-1 div.sk-toggleable__content {max-height: 0;max-width: 0;overflow: hidden;text-align: left;background-color: #f0f8ff;}#sk-container-id-1 div.sk-toggleable__content pre {margin: 0.2em;color: black;border-radius: 0.25em;background-color: #f0f8ff;}#sk-container-id-1 input.sk-toggleable__control:checked~div.sk-toggleable__content {max-height: 200px;max-width: 100%;overflow: auto;}#sk-container-id-1 input.sk-toggleable__control:checked~label.sk-toggleable__label-arrow:before {content: \"▾\";}#sk-container-id-1 div.sk-estimator input.sk-toggleable__control:checked~label.sk-toggleable__label {background-color: #d4ebff;}#sk-container-id-1 div.sk-label input.sk-toggleable__control:checked~label.sk-toggleable__label {background-color: #d4ebff;}#sk-container-id-1 input.sk-hidden--visually {border: 0;clip: rect(1px 1px 1px 1px);clip: rect(1px, 1px, 1px, 1px);height: 1px;margin: -1px;overflow: hidden;padding: 0;position: absolute;width: 1px;}#sk-container-id-1 div.sk-estimator {font-family: monospace;background-color: #f0f8ff;border: 1px dotted black;border-radius: 0.25em;box-sizing: border-box;margin-bottom: 0.5em;}#sk-container-id-1 div.sk-estimator:hover {background-color: #d4ebff;}#sk-container-id-1 div.sk-parallel-item::after {content: \"\";width: 100%;border-bottom: 1px solid gray;flex-grow: 1;}#sk-container-id-1 div.sk-label:hover label.sk-toggleable__label {background-color: #d4ebff;}#sk-container-id-1 div.sk-serial::before {content: \"\";position: absolute;border-left: 1px solid gray;box-sizing: border-box;top: 0;bottom: 0;left: 50%;z-index: 0;}#sk-container-id-1 div.sk-serial {display: flex;flex-direction: column;align-items: center;background-color: white;padding-right: 0.2em;padding-left: 0.2em;position: relative;}#sk-container-id-1 div.sk-item {position: relative;z-index: 1;}#sk-container-id-1 div.sk-parallel {display: flex;align-items: stretch;justify-content: center;background-color: white;position: relative;}#sk-container-id-1 div.sk-item::before, #sk-container-id-1 div.sk-parallel-item::before {content: \"\";position: absolute;border-left: 1px solid gray;box-sizing: border-box;top: 0;bottom: 0;left: 50%;z-index: -1;}#sk-container-id-1 div.sk-parallel-item {display: flex;flex-direction: column;z-index: 1;position: relative;background-color: white;}#sk-container-id-1 div.sk-parallel-item:first-child::after {align-self: flex-end;width: 50%;}#sk-container-id-1 div.sk-parallel-item:last-child::after {align-self: flex-start;width: 50%;}#sk-container-id-1 div.sk-parallel-item:only-child::after {width: 0;}#sk-container-id-1 div.sk-dashed-wrapped {border: 1px dashed gray;margin: 0 0.4em 0.5em 0.4em;box-sizing: border-box;padding-bottom: 0.4em;background-color: white;}#sk-container-id-1 div.sk-label label {font-family: monospace;font-weight: bold;display: inline-block;line-height: 1.2em;}#sk-container-id-1 div.sk-label-container {text-align: center;}#sk-container-id-1 div.sk-container {/* jupyter's `normalize.less` sets `[hidden] { display: none; }` but bootstrap.min.css set `[hidden] { display: none !important; }` so we also need the `!important` here to be able to override the default hidden behavior on the sphinx rendered scikit-learn.org. See: https://github.com/scikit-learn/scikit-learn/issues/21755 */display: inline-block !important;position: relative;}#sk-container-id-1 div.sk-text-repr-fallback {display: none;}</style><div id=\"sk-container-id-1\" class=\"sk-top-container\"><div class=\"sk-text-repr-fallback\"><pre>LogisticRegression()</pre><b>In a Jupyter environment, please rerun this cell to show the HTML representation or trust the notebook. <br />On GitHub, the HTML representation is unable to render, please try loading this page with nbviewer.org.</b></div><div class=\"sk-container\" hidden><div class=\"sk-item\"><div class=\"sk-estimator sk-toggleable\"><input class=\"sk-toggleable__control sk-hidden--visually\" id=\"sk-estimator-id-1\" type=\"checkbox\" checked><label for=\"sk-estimator-id-1\" class=\"sk-toggleable__label sk-toggleable__label-arrow\">LogisticRegression</label><div class=\"sk-toggleable__content\"><pre>LogisticRegression()</pre></div></div></div></div></div>"
      ],
      "text/plain": [
       "LogisticRegression()"
      ]
     },
     "execution_count": 47,
     "metadata": {},
     "output_type": "execute_result"
    }
   ],
   "source": [
    "alg.fit(x_train,y_train)"
   ]
  },
  {
   "cell_type": "code",
   "execution_count": 48,
   "metadata": {},
   "outputs": [],
   "source": [
    "testing=x_test\n",
    "x_test=scaler.transform(testing)"
   ]
  },
  {
   "cell_type": "code",
   "execution_count": 49,
   "metadata": {},
   "outputs": [
    {
     "data": {
      "text/plain": [
       "0.9790209790209791"
      ]
     },
     "execution_count": 49,
     "metadata": {},
     "output_type": "execute_result"
    }
   ],
   "source": [
    "alg.score(x_test,y_test)"
   ]
  }
 ],
 "metadata": {
  "kernelspec": {
   "display_name": "Python 3.10.6 64-bit",
   "language": "python",
   "name": "python3"
  },
  "language_info": {
   "codemirror_mode": {
    "name": "ipython",
    "version": 3
   },
   "file_extension": ".py",
   "mimetype": "text/x-python",
   "name": "python",
   "nbconvert_exporter": "python",
   "pygments_lexer": "ipython3",
   "version": "3.10.6"
  },
  "orig_nbformat": 4,
  "vscode": {
   "interpreter": {
    "hash": "26de051ba29f2982a8de78e945f0abaf191376122a1563185a90213a26c5da77"
   }
  }
 },
 "nbformat": 4,
 "nbformat_minor": 2
}
